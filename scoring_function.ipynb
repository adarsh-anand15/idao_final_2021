{
 "cells": [
  {
   "cell_type": "code",
   "execution_count": 2,
   "metadata": {},
   "outputs": [],
   "source": [
    "def score_func(sale_flg, sale_amount, contacts):\n",
    "    CALL_COST = 400 / 0.1\n",
    "\n",
    "    score = sale_flg * sale_amount - contacts * CALL_COST\n",
    "\n",
    "    return score\n"
   ]
  },
  {
   "cell_type": "code",
   "execution_count": 4,
   "metadata": {},
   "outputs": [],
   "source": [
    " import pandas as pd"
   ]
  },
  {
   "cell_type": "code",
   "execution_count": 6,
   "metadata": {},
   "outputs": [],
   "source": [
    "funnel_df = pd.read_csv('../dataset/train/funnel.csv')"
   ]
  },
  {
   "cell_type": "code",
   "execution_count": 7,
   "metadata": {},
   "outputs": [
    {
     "data": {
      "text/plain": "Index(['client_id', 'sale_flg', 'sale_amount', 'contacts', 'feature_1',\n       'client_segment', 'feature_2', 'feature_3', 'feature_4', 'feature_5',\n       'feature_6', 'feature_7', 'feature_8', 'feature_9', 'feature_10',\n       'region_cd'],\n      dtype='object')"
     },
     "execution_count": 7,
     "metadata": {},
     "output_type": "execute_result"
    }
   ],
   "source": [
    "funnel_df.columns"
   ]
  },
  {
   "cell_type": "code",
   "execution_count": null,
   "metadata": {},
   "outputs": [],
   "source": []
  }
 ],
 "metadata": {
  "kernelspec": {
   "display_name": "Python 3.8.5 64-bit ('base': conda)",
   "name": "python385jvsc74a57bd06e42f91bd102566b341af2f1d9d5eb9327dd6cae7c3f59b1466fd2687faa8dc7"
  },
  "language_info": {
   "codemirror_mode": {
    "name": "ipython",
    "version": 3
   },
   "file_extension": ".py",
   "mimetype": "text/x-python",
   "name": "python",
   "nbconvert_exporter": "python",
   "pygments_lexer": "ipython3",
   "version": "3.8.5"
  },
  "metadata": {
   "interpreter": {
    "hash": "6e42f91bd102566b341af2f1d9d5eb9327dd6cae7c3f59b1466fd2687faa8dc7"
   }
  },
  "orig_nbformat": 2
 },
 "nbformat": 4,
 "nbformat_minor": 2
}