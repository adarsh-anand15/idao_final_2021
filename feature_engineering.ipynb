{
 "cells": [
  {
   "cell_type": "code",
   "execution_count": 1,
   "metadata": {},
   "outputs": [],
   "source": [
    "import pandas as pd"
   ]
  },
  {
   "cell_type": "code",
   "execution_count": 2,
   "metadata": {},
   "outputs": [],
   "source": [
    "appl_df = pd.read_csv('dataset/train/appl.csv')"
   ]
  },
  {
   "cell_type": "code",
   "execution_count": 3,
   "metadata": {},
   "outputs": [
    {
     "data": {
      "text/html": "<div>\n<style scoped>\n    .dataframe tbody tr th:only-of-type {\n        vertical-align: middle;\n    }\n\n    .dataframe tbody tr th {\n        vertical-align: top;\n    }\n\n    .dataframe thead th {\n        text-align: right;\n    }\n</style>\n<table border=\"1\" class=\"dataframe\">\n  <thead>\n    <tr style=\"text-align: right;\">\n      <th></th>\n      <th>client_id</th>\n      <th>month_end_dt</th>\n      <th>appl_prod_group_name</th>\n      <th>appl_prod_type_name</th>\n      <th>appl_stts_name_dc</th>\n      <th>appl_sale_channel_name</th>\n    </tr>\n  </thead>\n  <tbody>\n    <tr>\n      <th>0</th>\n      <td>6886062013213911831</td>\n      <td>2018-10-31</td>\n      <td>PILS</td>\n      <td>PILS</td>\n      <td>The consultation is over</td>\n      <td>Network</td>\n    </tr>\n    <tr>\n      <th>1</th>\n      <td>4497537671718296975</td>\n      <td>2018-10-31</td>\n      <td>PILS</td>\n      <td>PILS</td>\n      <td>The consultation is over</td>\n      <td>Network</td>\n    </tr>\n    <tr>\n      <th>2</th>\n      <td>1316154201527307743</td>\n      <td>2018-09-30</td>\n      <td>PILS</td>\n      <td>PILS</td>\n      <td>The consultation is over</td>\n      <td>Network</td>\n    </tr>\n    <tr>\n      <th>3</th>\n      <td>1316154201527307743</td>\n      <td>2018-09-30</td>\n      <td>PILS</td>\n      <td>PILS</td>\n      <td>The consultation is over</td>\n      <td>Network</td>\n    </tr>\n    <tr>\n      <th>4</th>\n      <td>1316154201527307743</td>\n      <td>2018-09-30</td>\n      <td>PILS</td>\n      <td>PILS</td>\n      <td>The consultation is over</td>\n      <td>Network</td>\n    </tr>\n  </tbody>\n</table>\n</div>",
      "text/plain": "   client_id              month_end_dt   appl_prod_group_name   \\\n0    6886062013213911831  2018-10-31     PILS                    \n1    4497537671718296975  2018-10-31     PILS                    \n2    1316154201527307743  2018-09-30     PILS                    \n3    1316154201527307743  2018-09-30     PILS                    \n4    1316154201527307743  2018-09-30     PILS                    \n\n   appl_prod_type_name   appl_stts_name_dc                         \\\n0  PILS                  The consultation is over                   \n1  PILS                  The consultation is over                   \n2  PILS                  The consultation is over                   \n3  PILS                  The consultation is over                   \n4  PILS                  The consultation is over                   \n\n  appl_sale_channel_name  \n0                Network  \n1                Network  \n2                Network  \n3                Network  \n4                Network  "
     },
     "execution_count": 3,
     "metadata": {},
     "output_type": "execute_result"
    }
   ],
   "source": [
    "appl_df.head()"
   ]
  },
  {
   "cell_type": "code",
   "execution_count": 9,
   "metadata": {},
   "outputs": [
    {
     "data": {
      "text/plain": "Index(['client_id            ', 'month_end_dt ', 'appl_prod_group_name ',\n       'appl_prod_type_name ', 'appl_stts_name_dc                       ',\n       'appl_sale_channel_name'],\n      dtype='object')"
     },
     "execution_count": 9,
     "metadata": {},
     "output_type": "execute_result"
    }
   ],
   "source": [
    "appl_df.columns"
   ]
  },
  {
   "cell_type": "code",
   "execution_count": 13,
   "metadata": {},
   "outputs": [],
   "source": [
    "appl_df = appl_df.rename(columns={col: col.strip() for col in appl_df.columns})\n"
   ]
  },
  {
   "cell_type": "code",
   "execution_count": 14,
   "metadata": {},
   "outputs": [
    {
     "data": {
      "text/plain": "Index(['client_id', 'month_end_dt', 'appl_prod_group_name',\n       'appl_prod_type_name', 'appl_stts_name_dc', 'appl_sale_channel_name'],\n      dtype='object')"
     },
     "execution_count": 14,
     "metadata": {},
     "output_type": "execute_result"
    }
   ],
   "source": [
    "appl_df.columns"
   ]
  },
  {
   "cell_type": "code",
   "execution_count": 24,
   "metadata": {},
   "outputs": [],
   "source": [
    "appl_client_freq_df = appl_df['client_id'].value_counts().reset_index().rename(\n",
    "    columns={'index': 'client_id', 'client_id': 'appl_client_freq'})\n"
   ]
  },
  {
   "cell_type": "code",
   "execution_count": 25,
   "metadata": {},
   "outputs": [
    {
     "data": {
      "text/html": "<div>\n<style scoped>\n    .dataframe tbody tr th:only-of-type {\n        vertical-align: middle;\n    }\n\n    .dataframe tbody tr th {\n        vertical-align: top;\n    }\n\n    .dataframe thead th {\n        text-align: right;\n    }\n</style>\n<table border=\"1\" class=\"dataframe\">\n  <thead>\n    <tr style=\"text-align: right;\">\n      <th></th>\n      <th>client_id</th>\n      <th>appl_client_freq</th>\n    </tr>\n  </thead>\n  <tbody>\n    <tr>\n      <th>0</th>\n      <td>5113554406807908560</td>\n      <td>12</td>\n    </tr>\n    <tr>\n      <th>1</th>\n      <td>-8760395530856623871</td>\n      <td>10</td>\n    </tr>\n    <tr>\n      <th>2</th>\n      <td>7559894848679880153</td>\n      <td>9</td>\n    </tr>\n    <tr>\n      <th>3</th>\n      <td>5029641622584325457</td>\n      <td>9</td>\n    </tr>\n    <tr>\n      <th>4</th>\n      <td>-2860038584515890674</td>\n      <td>9</td>\n    </tr>\n    <tr>\n      <th>...</th>\n      <td>...</td>\n      <td>...</td>\n    </tr>\n    <tr>\n      <th>6204</th>\n      <td>-78827487021885562</td>\n      <td>1</td>\n    </tr>\n    <tr>\n      <th>6205</th>\n      <td>6032726733496983671</td>\n      <td>1</td>\n    </tr>\n    <tr>\n      <th>6206</th>\n      <td>-3310635477253838557</td>\n      <td>1</td>\n    </tr>\n    <tr>\n      <th>6207</th>\n      <td>7717667004307663780</td>\n      <td>1</td>\n    </tr>\n    <tr>\n      <th>6208</th>\n      <td>6452377182247997073</td>\n      <td>1</td>\n    </tr>\n  </tbody>\n</table>\n<p>6209 rows × 2 columns</p>\n</div>",
      "text/plain": "                client_id  appl_client_freq\n0     5113554406807908560                12\n1    -8760395530856623871                10\n2     7559894848679880153                 9\n3     5029641622584325457                 9\n4    -2860038584515890674                 9\n...                   ...               ...\n6204   -78827487021885562                 1\n6205  6032726733496983671                 1\n6206 -3310635477253838557                 1\n6207  7717667004307663780                 1\n6208  6452377182247997073                 1\n\n[6209 rows x 2 columns]"
     },
     "execution_count": 25,
     "metadata": {},
     "output_type": "execute_result"
    }
   ],
   "source": [
    "appl_client_freq_df\n"
   ]
  },
  {
   "cell_type": "code",
   "execution_count": 31,
   "metadata": {},
   "outputs": [],
   "source": [
    "appl_prod_group_name_counts_df = appl_df.groupby(['client_id', 'appl_prod_group_name'])['appl_prod_group_name'].count().unstack(level=-1).fillna(0).reset_index()\n"
   ]
  },
  {
   "cell_type": "code",
   "execution_count": 35,
   "metadata": {},
   "outputs": [
    {
     "data": {
      "text/plain": "Index(['client_id', 'Cards', 'Mortgage', 'PILS'], dtype='object', name='appl_prod_group_name')"
     },
     "execution_count": 35,
     "metadata": {},
     "output_type": "execute_result"
    }
   ],
   "source": [
    "appl_prod_group_name_counts_df = appl_prod_group_name_counts_df.rename(\n",
    "    columns={col: col.strip() for col in appl_prod_group_name_counts_df.columns})\n",
    "appl_prod_group_name_counts_df.columns\n"
   ]
  },
  {
   "cell_type": "code",
   "execution_count": 36,
   "metadata": {},
   "outputs": [],
   "source": [
    "appl_prod_group_name_counts_df['total'] = appl_prod_group_name_counts_df['Cards'] + \\\n",
    "    appl_prod_group_name_counts_df['Mortgage'] + \\\n",
    "    appl_prod_group_name_counts_df['PILS']\n"
   ]
  },
  {
   "cell_type": "code",
   "execution_count": 37,
   "metadata": {},
   "outputs": [],
   "source": [
    "appl_prod_group_name_counts_df['appl_prod_group_name_Cards_prop'] = appl_prod_group_name_counts_df['Cards'] / \\\n",
    "    appl_prod_group_name_counts_df['total']\n",
    "appl_prod_group_name_counts_df['appl_prod_group_name_Mortgage_prop'] = appl_prod_group_name_counts_df['Mortgage'] / \\\n",
    "    appl_prod_group_name_counts_df['total']\n",
    "appl_prod_group_name_counts_df['appl_prod_group_name_PILS_prop'] = appl_prod_group_name_counts_df['PILS'] / \\\n",
    "    appl_prod_group_name_counts_df['total']\n"
   ]
  },
  {
   "cell_type": "code",
   "execution_count": 41,
   "metadata": {},
   "outputs": [
    {
     "data": {
      "text/plain": "Index(['client_id', 'Credit cards', 'Debit cards', 'Mortgage', 'PILS'], dtype='object', name='appl_prod_type_name')"
     },
     "execution_count": 41,
     "metadata": {},
     "output_type": "execute_result"
    }
   ],
   "source": [
    "appl_prod_type_name_counts_df = appl_df.groupby(['client_id', 'appl_prod_type_name'])[\n",
    "    'appl_prod_type_name'].count().unstack(level=-1).fillna(0).reset_index()\n",
    "\n",
    "appl_prod_type_name_counts_df = appl_prod_type_name_counts_df.rename(\n",
    "    columns={col: col.strip() for col in appl_prod_type_name_counts_df.columns})\n",
    "appl_prod_type_name_counts_df.columns\n"
   ]
  },
  {
   "cell_type": "code",
   "execution_count": 43,
   "metadata": {},
   "outputs": [],
   "source": [
    "appl_prod_type_name_counts_df['total'] = appl_prod_type_name_counts_df.apply(lambda row: row['Credit cards'] + row['Debit cards'] + row['Mortgage'] + row['PILS'], axis =1)"
   ]
  },
  {
   "cell_type": "code",
   "execution_count": 44,
   "metadata": {},
   "outputs": [
    {
     "data": {
      "text/html": "<div>\n<style scoped>\n    .dataframe tbody tr th:only-of-type {\n        vertical-align: middle;\n    }\n\n    .dataframe tbody tr th {\n        vertical-align: top;\n    }\n\n    .dataframe thead th {\n        text-align: right;\n    }\n</style>\n<table border=\"1\" class=\"dataframe\">\n  <thead>\n    <tr style=\"text-align: right;\">\n      <th>appl_prod_type_name</th>\n      <th>client_id</th>\n      <th>Credit cards</th>\n      <th>Debit cards</th>\n      <th>Mortgage</th>\n      <th>PILS</th>\n      <th>total</th>\n    </tr>\n  </thead>\n  <tbody>\n    <tr>\n      <th>0</th>\n      <td>-9220236243053692422</td>\n      <td>0.0</td>\n      <td>1.0</td>\n      <td>0.0</td>\n      <td>0.0</td>\n      <td>1.0</td>\n    </tr>\n    <tr>\n      <th>1</th>\n      <td>-9220233431709087652</td>\n      <td>1.0</td>\n      <td>0.0</td>\n      <td>0.0</td>\n      <td>2.0</td>\n      <td>3.0</td>\n    </tr>\n    <tr>\n      <th>2</th>\n      <td>-9218923580775423458</td>\n      <td>1.0</td>\n      <td>0.0</td>\n      <td>0.0</td>\n      <td>0.0</td>\n      <td>1.0</td>\n    </tr>\n    <tr>\n      <th>3</th>\n      <td>-9217522148893126271</td>\n      <td>0.0</td>\n      <td>0.0</td>\n      <td>0.0</td>\n      <td>1.0</td>\n      <td>1.0</td>\n    </tr>\n    <tr>\n      <th>4</th>\n      <td>-9216473704060526660</td>\n      <td>0.0</td>\n      <td>0.0</td>\n      <td>0.0</td>\n      <td>1.0</td>\n      <td>1.0</td>\n    </tr>\n    <tr>\n      <th>...</th>\n      <td>...</td>\n      <td>...</td>\n      <td>...</td>\n      <td>...</td>\n      <td>...</td>\n      <td>...</td>\n    </tr>\n    <tr>\n      <th>6204</th>\n      <td>9207149578494076222</td>\n      <td>0.0</td>\n      <td>1.0</td>\n      <td>0.0</td>\n      <td>0.0</td>\n      <td>1.0</td>\n    </tr>\n    <tr>\n      <th>6205</th>\n      <td>9208642641844740200</td>\n      <td>0.0</td>\n      <td>1.0</td>\n      <td>0.0</td>\n      <td>0.0</td>\n      <td>1.0</td>\n    </tr>\n    <tr>\n      <th>6206</th>\n      <td>9210268912367210109</td>\n      <td>0.0</td>\n      <td>0.0</td>\n      <td>0.0</td>\n      <td>1.0</td>\n      <td>1.0</td>\n    </tr>\n    <tr>\n      <th>6207</th>\n      <td>9213178145161007127</td>\n      <td>1.0</td>\n      <td>0.0</td>\n      <td>0.0</td>\n      <td>1.0</td>\n      <td>2.0</td>\n    </tr>\n    <tr>\n      <th>6208</th>\n      <td>9223107459698100059</td>\n      <td>1.0</td>\n      <td>1.0</td>\n      <td>0.0</td>\n      <td>0.0</td>\n      <td>2.0</td>\n    </tr>\n  </tbody>\n</table>\n<p>6209 rows × 6 columns</p>\n</div>",
      "text/plain": "appl_prod_type_name            client_id  Credit cards  Debit cards  Mortgage  \\\n0                   -9220236243053692422           0.0          1.0       0.0   \n1                   -9220233431709087652           1.0          0.0       0.0   \n2                   -9218923580775423458           1.0          0.0       0.0   \n3                   -9217522148893126271           0.0          0.0       0.0   \n4                   -9216473704060526660           0.0          0.0       0.0   \n...                                  ...           ...          ...       ...   \n6204                 9207149578494076222           0.0          1.0       0.0   \n6205                 9208642641844740200           0.0          1.0       0.0   \n6206                 9210268912367210109           0.0          0.0       0.0   \n6207                 9213178145161007127           1.0          0.0       0.0   \n6208                 9223107459698100059           1.0          1.0       0.0   \n\nappl_prod_type_name  PILS  total  \n0                     0.0    1.0  \n1                     2.0    3.0  \n2                     0.0    1.0  \n3                     1.0    1.0  \n4                     1.0    1.0  \n...                   ...    ...  \n6204                  0.0    1.0  \n6205                  0.0    1.0  \n6206                  1.0    1.0  \n6207                  1.0    2.0  \n6208                  0.0    2.0  \n\n[6209 rows x 6 columns]"
     },
     "execution_count": 44,
     "metadata": {},
     "output_type": "execute_result"
    }
   ],
   "source": [
    "appl_prod_type_name_counts_df\n"
   ]
  },
  {
   "cell_type": "code",
   "execution_count": 45,
   "metadata": {},
   "outputs": [],
   "source": [
    "appl_prod_type_name_counts_df['appl_prod_type_name_Credit_cards_prop'] = appl_prod_type_name_counts_df['Credit cards'] / \\\n",
    "    appl_prod_type_name_counts_df['total']\n",
    "appl_prod_type_name_counts_df['appl_prod_type_name_Debit_cards_prop'] = appl_prod_type_name_counts_df['Debit cards'] / \\\n",
    "    appl_prod_type_name_counts_df['total']\n",
    "appl_prod_type_name_counts_df['appl_prod_type_name_Mortgage_prop'] = appl_prod_type_name_counts_df['Mortgage'] / \\\n",
    "    appl_prod_type_name_counts_df['total']\n",
    "appl_prod_type_name_counts_df['appl_prod_type_name_PILS_prop'] = appl_prod_type_name_counts_df['PILS'] / \\\n",
    "    appl_prod_type_name_counts_df['total']\n",
    "\n"
   ]
  },
  {
   "cell_type": "code",
   "execution_count": 46,
   "metadata": {},
   "outputs": [
    {
     "data": {
      "text/html": "<div>\n<style scoped>\n    .dataframe tbody tr th:only-of-type {\n        vertical-align: middle;\n    }\n\n    .dataframe tbody tr th {\n        vertical-align: top;\n    }\n\n    .dataframe thead th {\n        text-align: right;\n    }\n</style>\n<table border=\"1\" class=\"dataframe\">\n  <thead>\n    <tr style=\"text-align: right;\">\n      <th>appl_prod_type_name</th>\n      <th>client_id</th>\n      <th>Credit cards</th>\n      <th>Debit cards</th>\n      <th>Mortgage</th>\n      <th>PILS</th>\n      <th>total</th>\n      <th>appl_prod_type_name_Credit_cards_prop</th>\n      <th>appl_prod_type_name_Debit_cards_prop</th>\n      <th>appl_prod_type_name_Mortgage_prop</th>\n      <th>appl_prod_type_name_PILS_prop</th>\n    </tr>\n  </thead>\n  <tbody>\n    <tr>\n      <th>0</th>\n      <td>-9220236243053692422</td>\n      <td>0.0</td>\n      <td>1.0</td>\n      <td>0.0</td>\n      <td>0.0</td>\n      <td>1.0</td>\n      <td>0.000000</td>\n      <td>1.0</td>\n      <td>0.0</td>\n      <td>0.000000</td>\n    </tr>\n    <tr>\n      <th>1</th>\n      <td>-9220233431709087652</td>\n      <td>1.0</td>\n      <td>0.0</td>\n      <td>0.0</td>\n      <td>2.0</td>\n      <td>3.0</td>\n      <td>0.333333</td>\n      <td>0.0</td>\n      <td>0.0</td>\n      <td>0.666667</td>\n    </tr>\n    <tr>\n      <th>2</th>\n      <td>-9218923580775423458</td>\n      <td>1.0</td>\n      <td>0.0</td>\n      <td>0.0</td>\n      <td>0.0</td>\n      <td>1.0</td>\n      <td>1.000000</td>\n      <td>0.0</td>\n      <td>0.0</td>\n      <td>0.000000</td>\n    </tr>\n    <tr>\n      <th>3</th>\n      <td>-9217522148893126271</td>\n      <td>0.0</td>\n      <td>0.0</td>\n      <td>0.0</td>\n      <td>1.0</td>\n      <td>1.0</td>\n      <td>0.000000</td>\n      <td>0.0</td>\n      <td>0.0</td>\n      <td>1.000000</td>\n    </tr>\n    <tr>\n      <th>4</th>\n      <td>-9216473704060526660</td>\n      <td>0.0</td>\n      <td>0.0</td>\n      <td>0.0</td>\n      <td>1.0</td>\n      <td>1.0</td>\n      <td>0.000000</td>\n      <td>0.0</td>\n      <td>0.0</td>\n      <td>1.000000</td>\n    </tr>\n    <tr>\n      <th>...</th>\n      <td>...</td>\n      <td>...</td>\n      <td>...</td>\n      <td>...</td>\n      <td>...</td>\n      <td>...</td>\n      <td>...</td>\n      <td>...</td>\n      <td>...</td>\n      <td>...</td>\n    </tr>\n    <tr>\n      <th>6204</th>\n      <td>9207149578494076222</td>\n      <td>0.0</td>\n      <td>1.0</td>\n      <td>0.0</td>\n      <td>0.0</td>\n      <td>1.0</td>\n      <td>0.000000</td>\n      <td>1.0</td>\n      <td>0.0</td>\n      <td>0.000000</td>\n    </tr>\n    <tr>\n      <th>6205</th>\n      <td>9208642641844740200</td>\n      <td>0.0</td>\n      <td>1.0</td>\n      <td>0.0</td>\n      <td>0.0</td>\n      <td>1.0</td>\n      <td>0.000000</td>\n      <td>1.0</td>\n      <td>0.0</td>\n      <td>0.000000</td>\n    </tr>\n    <tr>\n      <th>6206</th>\n      <td>9210268912367210109</td>\n      <td>0.0</td>\n      <td>0.0</td>\n      <td>0.0</td>\n      <td>1.0</td>\n      <td>1.0</td>\n      <td>0.000000</td>\n      <td>0.0</td>\n      <td>0.0</td>\n      <td>1.000000</td>\n    </tr>\n    <tr>\n      <th>6207</th>\n      <td>9213178145161007127</td>\n      <td>1.0</td>\n      <td>0.0</td>\n      <td>0.0</td>\n      <td>1.0</td>\n      <td>2.0</td>\n      <td>0.500000</td>\n      <td>0.0</td>\n      <td>0.0</td>\n      <td>0.500000</td>\n    </tr>\n    <tr>\n      <th>6208</th>\n      <td>9223107459698100059</td>\n      <td>1.0</td>\n      <td>1.0</td>\n      <td>0.0</td>\n      <td>0.0</td>\n      <td>2.0</td>\n      <td>0.500000</td>\n      <td>0.5</td>\n      <td>0.0</td>\n      <td>0.000000</td>\n    </tr>\n  </tbody>\n</table>\n<p>6209 rows × 10 columns</p>\n</div>",
      "text/plain": "appl_prod_type_name            client_id  Credit cards  Debit cards  Mortgage  \\\n0                   -9220236243053692422           0.0          1.0       0.0   \n1                   -9220233431709087652           1.0          0.0       0.0   \n2                   -9218923580775423458           1.0          0.0       0.0   \n3                   -9217522148893126271           0.0          0.0       0.0   \n4                   -9216473704060526660           0.0          0.0       0.0   \n...                                  ...           ...          ...       ...   \n6204                 9207149578494076222           0.0          1.0       0.0   \n6205                 9208642641844740200           0.0          1.0       0.0   \n6206                 9210268912367210109           0.0          0.0       0.0   \n6207                 9213178145161007127           1.0          0.0       0.0   \n6208                 9223107459698100059           1.0          1.0       0.0   \n\nappl_prod_type_name  PILS  total  appl_prod_type_name_Credit_cards_prop  \\\n0                     0.0    1.0                               0.000000   \n1                     2.0    3.0                               0.333333   \n2                     0.0    1.0                               1.000000   \n3                     1.0    1.0                               0.000000   \n4                     1.0    1.0                               0.000000   \n...                   ...    ...                                    ...   \n6204                  0.0    1.0                               0.000000   \n6205                  0.0    1.0                               0.000000   \n6206                  1.0    1.0                               0.000000   \n6207                  1.0    2.0                               0.500000   \n6208                  0.0    2.0                               0.500000   \n\nappl_prod_type_name  appl_prod_type_name_Debit_cards_prop  \\\n0                                                     1.0   \n1                                                     0.0   \n2                                                     0.0   \n3                                                     0.0   \n4                                                     0.0   \n...                                                   ...   \n6204                                                  1.0   \n6205                                                  1.0   \n6206                                                  0.0   \n6207                                                  0.0   \n6208                                                  0.5   \n\nappl_prod_type_name  appl_prod_type_name_Mortgage_prop  \\\n0                                                  0.0   \n1                                                  0.0   \n2                                                  0.0   \n3                                                  0.0   \n4                                                  0.0   \n...                                                ...   \n6204                                               0.0   \n6205                                               0.0   \n6206                                               0.0   \n6207                                               0.0   \n6208                                               0.0   \n\nappl_prod_type_name  appl_prod_type_name_PILS_prop  \n0                                         0.000000  \n1                                         0.666667  \n2                                         0.000000  \n3                                         1.000000  \n4                                         1.000000  \n...                                            ...  \n6204                                      0.000000  \n6205                                      0.000000  \n6206                                      1.000000  \n6207                                      0.500000  \n6208                                      0.000000  \n\n[6209 rows x 10 columns]"
     },
     "execution_count": 46,
     "metadata": {},
     "output_type": "execute_result"
    }
   ],
   "source": [
    "appl_prod_type_name_counts_df\n"
   ]
  },
  {
   "cell_type": "code",
   "execution_count": 54,
   "metadata": {},
   "outputs": [
    {
     "data": {
      "text/plain": "Index(['client_id', '2', 'An agreement is required to be signed',\n       'Attachment of documents', 'Attachment of documents (after release)',\n       'Bank refusal (sent to Methodics)', 'Client refusal',\n       'Client refusal (Methodics)', 'Confirmation of issue by the Controller',\n       'Draft', 'Formation of the application',\n       'Getting a list of customer cards',\n       'Improvement is required from the URC', 'Informing the Methodics',\n       'Introduced', 'Issuance has been made', 'Issuing a card', 'NaN',\n       'The consultation is over', 'The documents have been prepared',\n       'To issue', 'Verification of customer data',\n       'Waiting for contract data', 'five', 'four', 'one'],\n      dtype='object', name='appl_stts_name_dc')"
     },
     "execution_count": 54,
     "metadata": {},
     "output_type": "execute_result"
    }
   ],
   "source": [
    "appl_stts_name_dc_counts_df = appl_df.groupby(['client_id', 'appl_stts_name_dc'])[\n",
    "    'appl_stts_name_dc'].agg('count').unstack(level=-1).fillna(0).reset_index()\n",
    "\n",
    "appl_stts_name_dc_counts_df = appl_stts_name_dc_counts_df.rename(\n",
    "    columns={col: col.strip() for col in appl_stts_name_dc_counts_df.columns})\n",
    "appl_stts_name_dc_counts_df.columns\n"
   ]
  },
  {
   "cell_type": "code",
   "execution_count": 50,
   "metadata": {},
   "outputs": [
    {
     "data": {
      "text/html": "<div>\n<style scoped>\n    .dataframe tbody tr th:only-of-type {\n        vertical-align: middle;\n    }\n\n    .dataframe tbody tr th {\n        vertical-align: top;\n    }\n\n    .dataframe thead th {\n        text-align: right;\n    }\n</style>\n<table border=\"1\" class=\"dataframe\">\n  <thead>\n    <tr style=\"text-align: right;\">\n      <th>appl_stts_name_dc</th>\n      <th>client_id</th>\n      <th>2</th>\n      <th>An agreement is required to be signed</th>\n      <th>Attachment of documents</th>\n      <th>Attachment of documents (after release)</th>\n      <th>Bank refusal (sent to Methodics)</th>\n      <th>Client refusal</th>\n      <th>Client refusal (Methodics)</th>\n      <th>Confirmation of issue by the Controller</th>\n      <th>Draft</th>\n      <th>...</th>\n      <th>Issuing a card</th>\n      <th>NaN</th>\n      <th>The consultation is over</th>\n      <th>The documents have been prepared</th>\n      <th>To issue</th>\n      <th>Verification of customer data</th>\n      <th>Waiting for contract data</th>\n      <th>five</th>\n      <th>four</th>\n      <th>one</th>\n    </tr>\n  </thead>\n  <tbody>\n    <tr>\n      <th>0</th>\n      <td>-9220236243053692422</td>\n      <td>0.0</td>\n      <td>0.0</td>\n      <td>0.0</td>\n      <td>0.0</td>\n      <td>0.0</td>\n      <td>0.0</td>\n      <td>0.0</td>\n      <td>0.0</td>\n      <td>0.0</td>\n      <td>...</td>\n      <td>0.0</td>\n      <td>1.0</td>\n      <td>0.0</td>\n      <td>0.0</td>\n      <td>0.0</td>\n      <td>0.0</td>\n      <td>0.0</td>\n      <td>0.0</td>\n      <td>0.0</td>\n      <td>0.0</td>\n    </tr>\n    <tr>\n      <th>1</th>\n      <td>-9220233431709087652</td>\n      <td>0.0</td>\n      <td>0.0</td>\n      <td>0.0</td>\n      <td>0.0</td>\n      <td>0.0</td>\n      <td>0.0</td>\n      <td>0.0</td>\n      <td>0.0</td>\n      <td>0.0</td>\n      <td>...</td>\n      <td>0.0</td>\n      <td>0.0</td>\n      <td>0.0</td>\n      <td>0.0</td>\n      <td>0.0</td>\n      <td>0.0</td>\n      <td>0.0</td>\n      <td>0.0</td>\n      <td>0.0</td>\n      <td>0.0</td>\n    </tr>\n    <tr>\n      <th>2</th>\n      <td>-9218923580775423458</td>\n      <td>0.0</td>\n      <td>0.0</td>\n      <td>0.0</td>\n      <td>0.0</td>\n      <td>0.0</td>\n      <td>0.0</td>\n      <td>0.0</td>\n      <td>0.0</td>\n      <td>0.0</td>\n      <td>...</td>\n      <td>0.0</td>\n      <td>1.0</td>\n      <td>0.0</td>\n      <td>0.0</td>\n      <td>0.0</td>\n      <td>0.0</td>\n      <td>0.0</td>\n      <td>0.0</td>\n      <td>0.0</td>\n      <td>0.0</td>\n    </tr>\n    <tr>\n      <th>3</th>\n      <td>-9217522148893126271</td>\n      <td>0.0</td>\n      <td>0.0</td>\n      <td>0.0</td>\n      <td>0.0</td>\n      <td>0.0</td>\n      <td>0.0</td>\n      <td>0.0</td>\n      <td>0.0</td>\n      <td>0.0</td>\n      <td>...</td>\n      <td>0.0</td>\n      <td>0.0</td>\n      <td>1.0</td>\n      <td>0.0</td>\n      <td>0.0</td>\n      <td>0.0</td>\n      <td>0.0</td>\n      <td>0.0</td>\n      <td>0.0</td>\n      <td>0.0</td>\n    </tr>\n    <tr>\n      <th>4</th>\n      <td>-9216473704060526660</td>\n      <td>0.0</td>\n      <td>0.0</td>\n      <td>0.0</td>\n      <td>0.0</td>\n      <td>0.0</td>\n      <td>0.0</td>\n      <td>0.0</td>\n      <td>0.0</td>\n      <td>0.0</td>\n      <td>...</td>\n      <td>0.0</td>\n      <td>0.0</td>\n      <td>1.0</td>\n      <td>0.0</td>\n      <td>0.0</td>\n      <td>0.0</td>\n      <td>0.0</td>\n      <td>0.0</td>\n      <td>0.0</td>\n      <td>0.0</td>\n    </tr>\n    <tr>\n      <th>...</th>\n      <td>...</td>\n      <td>...</td>\n      <td>...</td>\n      <td>...</td>\n      <td>...</td>\n      <td>...</td>\n      <td>...</td>\n      <td>...</td>\n      <td>...</td>\n      <td>...</td>\n      <td>...</td>\n      <td>...</td>\n      <td>...</td>\n      <td>...</td>\n      <td>...</td>\n      <td>...</td>\n      <td>...</td>\n      <td>...</td>\n      <td>...</td>\n      <td>...</td>\n      <td>...</td>\n    </tr>\n    <tr>\n      <th>6204</th>\n      <td>9207149578494076222</td>\n      <td>0.0</td>\n      <td>0.0</td>\n      <td>0.0</td>\n      <td>0.0</td>\n      <td>0.0</td>\n      <td>0.0</td>\n      <td>0.0</td>\n      <td>0.0</td>\n      <td>0.0</td>\n      <td>...</td>\n      <td>0.0</td>\n      <td>1.0</td>\n      <td>0.0</td>\n      <td>0.0</td>\n      <td>0.0</td>\n      <td>0.0</td>\n      <td>0.0</td>\n      <td>0.0</td>\n      <td>0.0</td>\n      <td>0.0</td>\n    </tr>\n    <tr>\n      <th>6205</th>\n      <td>9208642641844740200</td>\n      <td>0.0</td>\n      <td>0.0</td>\n      <td>0.0</td>\n      <td>0.0</td>\n      <td>0.0</td>\n      <td>0.0</td>\n      <td>0.0</td>\n      <td>0.0</td>\n      <td>0.0</td>\n      <td>...</td>\n      <td>0.0</td>\n      <td>0.0</td>\n      <td>0.0</td>\n      <td>0.0</td>\n      <td>0.0</td>\n      <td>0.0</td>\n      <td>0.0</td>\n      <td>0.0</td>\n      <td>0.0</td>\n      <td>0.0</td>\n    </tr>\n    <tr>\n      <th>6206</th>\n      <td>9210268912367210109</td>\n      <td>0.0</td>\n      <td>0.0</td>\n      <td>0.0</td>\n      <td>0.0</td>\n      <td>0.0</td>\n      <td>0.0</td>\n      <td>0.0</td>\n      <td>0.0</td>\n      <td>0.0</td>\n      <td>...</td>\n      <td>0.0</td>\n      <td>0.0</td>\n      <td>0.0</td>\n      <td>0.0</td>\n      <td>0.0</td>\n      <td>0.0</td>\n      <td>0.0</td>\n      <td>0.0</td>\n      <td>0.0</td>\n      <td>0.0</td>\n    </tr>\n    <tr>\n      <th>6207</th>\n      <td>9213178145161007127</td>\n      <td>0.0</td>\n      <td>0.0</td>\n      <td>0.0</td>\n      <td>0.0</td>\n      <td>0.0</td>\n      <td>0.0</td>\n      <td>0.0</td>\n      <td>0.0</td>\n      <td>0.0</td>\n      <td>...</td>\n      <td>0.0</td>\n      <td>1.0</td>\n      <td>0.0</td>\n      <td>0.0</td>\n      <td>0.0</td>\n      <td>0.0</td>\n      <td>0.0</td>\n      <td>0.0</td>\n      <td>0.0</td>\n      <td>0.0</td>\n    </tr>\n    <tr>\n      <th>6208</th>\n      <td>9223107459698100059</td>\n      <td>0.0</td>\n      <td>0.0</td>\n      <td>0.0</td>\n      <td>0.0</td>\n      <td>0.0</td>\n      <td>0.0</td>\n      <td>0.0</td>\n      <td>0.0</td>\n      <td>0.0</td>\n      <td>...</td>\n      <td>1.0</td>\n      <td>0.0</td>\n      <td>0.0</td>\n      <td>0.0</td>\n      <td>0.0</td>\n      <td>0.0</td>\n      <td>0.0</td>\n      <td>0.0</td>\n      <td>0.0</td>\n      <td>0.0</td>\n    </tr>\n  </tbody>\n</table>\n<p>6209 rows × 26 columns</p>\n</div>",
      "text/plain": "appl_stts_name_dc            client_id  \\\n0                 -9220236243053692422   \n1                 -9220233431709087652   \n2                 -9218923580775423458   \n3                 -9217522148893126271   \n4                 -9216473704060526660   \n...                                ...   \n6204               9207149578494076222   \n6205               9208642641844740200   \n6206               9210268912367210109   \n6207               9213178145161007127   \n6208               9223107459698100059   \n\nappl_stts_name_dc  2                                         \\\n0                                                       0.0   \n1                                                       0.0   \n2                                                       0.0   \n3                                                       0.0   \n4                                                       0.0   \n...                                                     ...   \n6204                                                    0.0   \n6205                                                    0.0   \n6206                                                    0.0   \n6207                                                    0.0   \n6208                                                    0.0   \n\nappl_stts_name_dc  An agreement is required to be signed     \\\n0                                                       0.0   \n1                                                       0.0   \n2                                                       0.0   \n3                                                       0.0   \n4                                                       0.0   \n...                                                     ...   \n6204                                                    0.0   \n6205                                                    0.0   \n6206                                                    0.0   \n6207                                                    0.0   \n6208                                                    0.0   \n\nappl_stts_name_dc  Attachment of documents                   \\\n0                                                       0.0   \n1                                                       0.0   \n2                                                       0.0   \n3                                                       0.0   \n4                                                       0.0   \n...                                                     ...   \n6204                                                    0.0   \n6205                                                    0.0   \n6206                                                    0.0   \n6207                                                    0.0   \n6208                                                    0.0   \n\nappl_stts_name_dc  Attachment of documents (after release)   \\\n0                                                       0.0   \n1                                                       0.0   \n2                                                       0.0   \n3                                                       0.0   \n4                                                       0.0   \n...                                                     ...   \n6204                                                    0.0   \n6205                                                    0.0   \n6206                                                    0.0   \n6207                                                    0.0   \n6208                                                    0.0   \n\nappl_stts_name_dc  Bank refusal (sent to Methodics)          \\\n0                                                       0.0   \n1                                                       0.0   \n2                                                       0.0   \n3                                                       0.0   \n4                                                       0.0   \n...                                                     ...   \n6204                                                    0.0   \n6205                                                    0.0   \n6206                                                    0.0   \n6207                                                    0.0   \n6208                                                    0.0   \n\nappl_stts_name_dc  Client refusal                            \\\n0                                                       0.0   \n1                                                       0.0   \n2                                                       0.0   \n3                                                       0.0   \n4                                                       0.0   \n...                                                     ...   \n6204                                                    0.0   \n6205                                                    0.0   \n6206                                                    0.0   \n6207                                                    0.0   \n6208                                                    0.0   \n\nappl_stts_name_dc  Client refusal (Methodics)                \\\n0                                                       0.0   \n1                                                       0.0   \n2                                                       0.0   \n3                                                       0.0   \n4                                                       0.0   \n...                                                     ...   \n6204                                                    0.0   \n6205                                                    0.0   \n6206                                                    0.0   \n6207                                                    0.0   \n6208                                                    0.0   \n\nappl_stts_name_dc  Confirmation of issue by the Controller   \\\n0                                                       0.0   \n1                                                       0.0   \n2                                                       0.0   \n3                                                       0.0   \n4                                                       0.0   \n...                                                     ...   \n6204                                                    0.0   \n6205                                                    0.0   \n6206                                                    0.0   \n6207                                                    0.0   \n6208                                                    0.0   \n\nappl_stts_name_dc  Draft                                     ...  \\\n0                                                       0.0  ...   \n1                                                       0.0  ...   \n2                                                       0.0  ...   \n3                                                       0.0  ...   \n4                                                       0.0  ...   \n...                                                     ...  ...   \n6204                                                    0.0  ...   \n6205                                                    0.0  ...   \n6206                                                    0.0  ...   \n6207                                                    0.0  ...   \n6208                                                    0.0  ...   \n\nappl_stts_name_dc  Issuing a card                            \\\n0                                                       0.0   \n1                                                       0.0   \n2                                                       0.0   \n3                                                       0.0   \n4                                                       0.0   \n...                                                     ...   \n6204                                                    0.0   \n6205                                                    0.0   \n6206                                                    0.0   \n6207                                                    0.0   \n6208                                                    1.0   \n\nappl_stts_name_dc  NaN                                       \\\n0                                                       1.0   \n1                                                       0.0   \n2                                                       1.0   \n3                                                       0.0   \n4                                                       0.0   \n...                                                     ...   \n6204                                                    1.0   \n6205                                                    0.0   \n6206                                                    0.0   \n6207                                                    1.0   \n6208                                                    0.0   \n\nappl_stts_name_dc  The consultation is over                  \\\n0                                                       0.0   \n1                                                       0.0   \n2                                                       0.0   \n3                                                       1.0   \n4                                                       1.0   \n...                                                     ...   \n6204                                                    0.0   \n6205                                                    0.0   \n6206                                                    0.0   \n6207                                                    0.0   \n6208                                                    0.0   \n\nappl_stts_name_dc  The documents have been prepared          \\\n0                                                       0.0   \n1                                                       0.0   \n2                                                       0.0   \n3                                                       0.0   \n4                                                       0.0   \n...                                                     ...   \n6204                                                    0.0   \n6205                                                    0.0   \n6206                                                    0.0   \n6207                                                    0.0   \n6208                                                    0.0   \n\nappl_stts_name_dc  To issue                                  \\\n0                                                       0.0   \n1                                                       0.0   \n2                                                       0.0   \n3                                                       0.0   \n4                                                       0.0   \n...                                                     ...   \n6204                                                    0.0   \n6205                                                    0.0   \n6206                                                    0.0   \n6207                                                    0.0   \n6208                                                    0.0   \n\nappl_stts_name_dc  Verification of customer data             \\\n0                                                       0.0   \n1                                                       0.0   \n2                                                       0.0   \n3                                                       0.0   \n4                                                       0.0   \n...                                                     ...   \n6204                                                    0.0   \n6205                                                    0.0   \n6206                                                    0.0   \n6207                                                    0.0   \n6208                                                    0.0   \n\nappl_stts_name_dc  Waiting for contract data                 \\\n0                                                       0.0   \n1                                                       0.0   \n2                                                       0.0   \n3                                                       0.0   \n4                                                       0.0   \n...                                                     ...   \n6204                                                    0.0   \n6205                                                    0.0   \n6206                                                    0.0   \n6207                                                    0.0   \n6208                                                    0.0   \n\nappl_stts_name_dc  five                                      \\\n0                                                       0.0   \n1                                                       0.0   \n2                                                       0.0   \n3                                                       0.0   \n4                                                       0.0   \n...                                                     ...   \n6204                                                    0.0   \n6205                                                    0.0   \n6206                                                    0.0   \n6207                                                    0.0   \n6208                                                    0.0   \n\nappl_stts_name_dc  four                                      \\\n0                                                       0.0   \n1                                                       0.0   \n2                                                       0.0   \n3                                                       0.0   \n4                                                       0.0   \n...                                                     ...   \n6204                                                    0.0   \n6205                                                    0.0   \n6206                                                    0.0   \n6207                                                    0.0   \n6208                                                    0.0   \n\nappl_stts_name_dc  one                                       \n0                                                       0.0  \n1                                                       0.0  \n2                                                       0.0  \n3                                                       0.0  \n4                                                       0.0  \n...                                                     ...  \n6204                                                    0.0  \n6205                                                    0.0  \n6206                                                    0.0  \n6207                                                    0.0  \n6208                                                    0.0  \n\n[6209 rows x 26 columns]"
     },
     "execution_count": 50,
     "metadata": {},
     "output_type": "execute_result"
    }
   ],
   "source": [
    "appl_stts_name_dc_counts_df\n"
   ]
  },
  {
   "cell_type": "code",
   "execution_count": null,
   "metadata": {},
   "outputs": [],
   "source": [
    "appl_stts_name_dc_df\n"
   ]
  },
  {
   "cell_type": "code",
   "execution_count": 52,
   "metadata": {},
   "outputs": [
    {
     "data": {
      "text/plain": "array(['The consultation is over                ',\n       'Issuance has been made                  ',\n       'NaN                                     ',\n       'Informing the Methodics                 ',\n       'Client refusal                          ',\n       'Draft                                   ',\n       'The documents have been prepared        ',\n       'An agreement is required to be signed   ',\n       'Improvement is required from the URC    ',\n       'Verification of customer data           ',\n       'To issue                                ',\n       'Attachment of documents (after release) ',\n       'Bank refusal (sent to Methodics)        ',\n       'Getting a list of customer cards        ',\n       'Issuing a card                          ',\n       'Introduced                              ',\n       'Waiting for contract data               ',\n       'Attachment of documents                 ',\n       'Client refusal (Methodics)              ',\n       'Confirmation of issue by the Controller ',\n       'Formation of the application            ',\n       'one                                     ',\n       'five                                    ',\n       'four                                    ',\n       '2                                       '], dtype=object)"
     },
     "execution_count": 52,
     "metadata": {},
     "output_type": "execute_result"
    }
   ],
   "source": [
    "appl_df['appl_stts_name_dc'].unique()"
   ]
  },
  {
   "cell_type": "code",
   "execution_count": 59,
   "metadata": {},
   "outputs": [
    {
     "data": {
      "text/html": "<div>\n<style scoped>\n    .dataframe tbody tr th:only-of-type {\n        vertical-align: middle;\n    }\n\n    .dataframe tbody tr th {\n        vertical-align: top;\n    }\n\n    .dataframe thead tr th {\n        text-align: left;\n    }\n</style>\n<table border=\"1\" class=\"dataframe\">\n  <thead>\n    <tr>\n      <th></th>\n      <th>client_id</th>\n      <th colspan=\"4\" halign=\"left\">count</th>\n      <th colspan=\"4\" halign=\"left\">sum</th>\n    </tr>\n    <tr>\n      <th>appl_prod_type_name</th>\n      <th></th>\n      <th>Credit cards</th>\n      <th>Debit cards</th>\n      <th>Mortgage</th>\n      <th>PILS</th>\n      <th>Credit cards</th>\n      <th>Debit cards</th>\n      <th>Mortgage</th>\n      <th>PILS</th>\n    </tr>\n  </thead>\n  <tbody>\n    <tr>\n      <th>0</th>\n      <td>-9220236243053692422</td>\n      <td>0.0</td>\n      <td>1.0</td>\n      <td>0.0</td>\n      <td>0.0</td>\n      <td>0</td>\n      <td>Debit cards</td>\n      <td>0</td>\n      <td>0</td>\n    </tr>\n    <tr>\n      <th>1</th>\n      <td>-9220233431709087652</td>\n      <td>1.0</td>\n      <td>0.0</td>\n      <td>0.0</td>\n      <td>2.0</td>\n      <td>Credit cards</td>\n      <td>0</td>\n      <td>0</td>\n      <td>PILS                PILS</td>\n    </tr>\n    <tr>\n      <th>2</th>\n      <td>-9218923580775423458</td>\n      <td>1.0</td>\n      <td>0.0</td>\n      <td>0.0</td>\n      <td>0.0</td>\n      <td>Credit cards</td>\n      <td>0</td>\n      <td>0</td>\n      <td>0</td>\n    </tr>\n    <tr>\n      <th>3</th>\n      <td>-9217522148893126271</td>\n      <td>0.0</td>\n      <td>0.0</td>\n      <td>0.0</td>\n      <td>1.0</td>\n      <td>0</td>\n      <td>0</td>\n      <td>0</td>\n      <td>PILS</td>\n    </tr>\n    <tr>\n      <th>4</th>\n      <td>-9216473704060526660</td>\n      <td>0.0</td>\n      <td>0.0</td>\n      <td>0.0</td>\n      <td>1.0</td>\n      <td>0</td>\n      <td>0</td>\n      <td>0</td>\n      <td>PILS</td>\n    </tr>\n    <tr>\n      <th>...</th>\n      <td>...</td>\n      <td>...</td>\n      <td>...</td>\n      <td>...</td>\n      <td>...</td>\n      <td>...</td>\n      <td>...</td>\n      <td>...</td>\n      <td>...</td>\n    </tr>\n    <tr>\n      <th>6204</th>\n      <td>9207149578494076222</td>\n      <td>0.0</td>\n      <td>1.0</td>\n      <td>0.0</td>\n      <td>0.0</td>\n      <td>0</td>\n      <td>Debit cards</td>\n      <td>0</td>\n      <td>0</td>\n    </tr>\n    <tr>\n      <th>6205</th>\n      <td>9208642641844740200</td>\n      <td>0.0</td>\n      <td>1.0</td>\n      <td>0.0</td>\n      <td>0.0</td>\n      <td>0</td>\n      <td>Debit cards</td>\n      <td>0</td>\n      <td>0</td>\n    </tr>\n    <tr>\n      <th>6206</th>\n      <td>9210268912367210109</td>\n      <td>0.0</td>\n      <td>0.0</td>\n      <td>0.0</td>\n      <td>1.0</td>\n      <td>0</td>\n      <td>0</td>\n      <td>0</td>\n      <td>PILS</td>\n    </tr>\n    <tr>\n      <th>6207</th>\n      <td>9213178145161007127</td>\n      <td>1.0</td>\n      <td>0.0</td>\n      <td>0.0</td>\n      <td>1.0</td>\n      <td>Credit cards</td>\n      <td>0</td>\n      <td>0</td>\n      <td>PILS</td>\n    </tr>\n    <tr>\n      <th>6208</th>\n      <td>9223107459698100059</td>\n      <td>1.0</td>\n      <td>1.0</td>\n      <td>0.0</td>\n      <td>0.0</td>\n      <td>Credit cards</td>\n      <td>Debit cards</td>\n      <td>0</td>\n      <td>0</td>\n    </tr>\n  </tbody>\n</table>\n<p>6209 rows × 9 columns</p>\n</div>",
      "text/plain": "                               client_id                count  \\\nappl_prod_type_name                      Credit cards           \n0                   -9220236243053692422                  0.0   \n1                   -9220233431709087652                  1.0   \n2                   -9218923580775423458                  1.0   \n3                   -9217522148893126271                  0.0   \n4                   -9216473704060526660                  0.0   \n...                                  ...                  ...   \n6204                 9207149578494076222                  0.0   \n6205                 9208642641844740200                  0.0   \n6206                 9210268912367210109                  0.0   \n6207                 9213178145161007127                  1.0   \n6208                 9223107459698100059                  1.0   \n\n                                                               \\\nappl_prod_type_name Debit cards          Mortgage               \n0                                    1.0                  0.0   \n1                                    0.0                  0.0   \n2                                    0.0                  0.0   \n3                                    0.0                  0.0   \n4                                    0.0                  0.0   \n...                                  ...                  ...   \n6204                                 1.0                  0.0   \n6205                                 1.0                  0.0   \n6206                                 0.0                  0.0   \n6207                                 0.0                  0.0   \n6208                                 1.0                  0.0   \n\n                                                           sum  \\\nappl_prod_type_name PILS                  Credit cards           \n0                                    0.0                     0   \n1                                    2.0  Credit cards           \n2                                    0.0  Credit cards           \n3                                    1.0                     0   \n4                                    1.0                     0   \n...                                  ...                   ...   \n6204                                 0.0                     0   \n6205                                 0.0                     0   \n6206                                 1.0                     0   \n6207                                 1.0  Credit cards           \n6208                                 0.0  Credit cards           \n\n                                                                \\\nappl_prod_type_name  Debit cards          Mortgage               \n0                    Debit cards                             0   \n1                                       0                    0   \n2                                       0                    0   \n3                                       0                    0   \n4                                       0                    0   \n...                                   ...                  ...   \n6204                 Debit cards                             0   \n6205                 Debit cards                             0   \n6206                                    0                    0   \n6207                                    0                    0   \n6208                 Debit cards                             0   \n\n                                                               \nappl_prod_type_name                      PILS                  \n0                                                           0  \n1                    PILS                PILS                  \n2                                                           0  \n3                                        PILS                  \n4                                        PILS                  \n...                                                       ...  \n6204                                                        0  \n6205                                                        0  \n6206                                     PILS                  \n6207                                     PILS                  \n6208                                                        0  \n\n[6209 rows x 9 columns]"
     },
     "execution_count": 59,
     "metadata": {},
     "output_type": "execute_result"
    }
   ],
   "source": [
    "appl_df.groupby(['client_id', 'appl_prod_type_name'])[\n",
    "    'appl_prod_type_name'].agg(['count', sum]).unstack(level=-1).fillna(0).reset_index()\n",
    "\n",
    "# appl_prod_type_name_counts_df = appl_prod_type_name_counts_df.rename(\n",
    "#     columns={col: col.strip() for col in appl_prod_type_name_counts_df.columns})\n",
    "# appl_prod_type_name_counts_df.columns\n"
   ]
  },
  {
   "cell_type": "code",
   "execution_count": 62,
   "metadata": {},
   "outputs": [],
   "source": [
    "g = appl_df.groupby(['client_id', 'appl_prod_type_name'])[\n",
    "    'appl_prod_type_name'].count()\n"
   ]
  },
  {
   "cell_type": "code",
   "execution_count": 64,
   "metadata": {},
   "outputs": [
    {
     "data": {
      "text/plain": "client_id             appl_prod_type_name \n-9220236243053692422  Debit cards             1.000000\n-9220233431709087652  Credit cards            0.333333\n                      PILS                    0.666667\n-9218923580775423458  Credit cards            1.000000\n-9217522148893126271  PILS                    1.000000\n                                                ...   \n 9210268912367210109  PILS                    1.000000\n 9213178145161007127  Credit cards            0.500000\n                      PILS                    0.500000\n 9223107459698100059  Credit cards            0.500000\n                      Debit cards             0.500000\nName: appl_prod_type_name, Length: 10089, dtype: float64"
     },
     "execution_count": 64,
     "metadata": {},
     "output_type": "execute_result"
    }
   ],
   "source": [
    "g.groupby(level=0).apply(lambda x: x/x.sum())"
   ]
  },
  {
   "cell_type": "code",
   "execution_count": null,
   "metadata": {},
   "outputs": [],
   "source": []
  }
 ],
 "metadata": {
  "kernelspec": {
   "display_name": "Python 3.8.5 64-bit ('base': conda)",
   "name": "python385jvsc74a57bd06e42f91bd102566b341af2f1d9d5eb9327dd6cae7c3f59b1466fd2687faa8dc7"
  },
  "language_info": {
   "codemirror_mode": {
    "name": "ipython",
    "version": 3
   },
   "file_extension": ".py",
   "mimetype": "text/x-python",
   "name": "python",
   "nbconvert_exporter": "python",
   "pygments_lexer": "ipython3",
   "version": "3.8.5"
  },
  "metadata": {
   "interpreter": {
    "hash": "6e42f91bd102566b341af2f1d9d5eb9327dd6cae7c3f59b1466fd2687faa8dc7"
   }
  },
  "orig_nbformat": 2
 },
 "nbformat": 4,
 "nbformat_minor": 2
}